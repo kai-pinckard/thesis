{
 "cells": [
  {
   "cell_type": "code",
   "execution_count": 1,
   "metadata": {},
   "outputs": [],
   "source": [
    "# Load the dataset\n",
    "with open(\"semeval_test_set_raw.txt\", \"r\") as f:\n",
    "    data = f.read()"
   ]
  },
  {
   "cell_type": "code",
   "execution_count": 3,
   "metadata": {},
   "outputs": [
    {
     "name": "stdout",
     "output_type": "stream",
     "text": [
      "The most common <e1>audits</e1> were about <e2>waste</e2> and recycling.\n"
     ]
    }
   ],
   "source": [
    "# Create Active Passive Dataset\n",
    "################################\n",
    "cur_pos = 0\n",
    "\"\"\"\n",
    "    Returns the first occurance of a sentence at or after start_index\n",
    "\"\"\"\n",
    "def get_next_sentence(start_index):\n",
    "    sent_start = data.find('\\\"', start_index) + 1\n",
    "    sent_end = data.find('\\\"', sent_start)\n",
    "    return data[sent_start:sent_end], sent_end\n",
    "\n",
    "demo_sent, index = get_next_sentence(0)\n",
    "print(demo_sent)"
   ]
  },
  {
   "cell_type": "code",
   "execution_count": 5,
   "metadata": {},
   "outputs": [
    {
     "name": "stdout",
     "output_type": "stream",
     "text": [
      "The most common audits were about waste and recycling.\n"
     ]
    }
   ],
   "source": [
    "\"\"\"\n",
    "Removes the <e1> </e2> tags from the sentence.\n",
    "\"\"\"\n",
    "def remove_sent_tags(sent):\n",
    "    sent = sent.replace(\"<e1>\", \"\")\n",
    "    sent = sent.replace(\"</e1>\", \"\")\n",
    "    sent = sent.replace(\"<e2>\", \"\")\n",
    "    return sent.replace(\"</e2>\", \"\")\n",
    "\n",
    "demo_sent = remove_sent_tags(demo_sent)\n",
    "print(demo_sent)"
   ]
  },
  {
   "cell_type": "code",
   "execution_count": 6,
   "metadata": {},
   "outputs": [
    {
     "name": "stdout",
     "output_type": "stream",
     "text": [
      "8002\t\"The <e1>company</e1> fabricates plastic <e2>chairs</e2>.\" 143\n"
     ]
    }
   ],
   "source": [
    "\"\"\"\n",
    "returns the first label occuring after \n",
    "\"\"\"\n",
    "def get_next_label(start_index):\n",
    "    # The label occurs one character after the newline\n",
    "    label_start = data.find(\"\\n\", start_index) + 1\n",
    "    label_end = data.find(\"\\n\", label_start)\n",
    "    return data[label_start:label_end], label_end\n",
    "demo_label, index = get_next_label(index)\n",
    "print(demo_label, index)"
   ]
  },
  {
   "cell_type": "code",
   "execution_count": 7,
   "metadata": {},
   "outputs": [
    {
     "name": "stdout",
     "output_type": "stream",
     "text": [
      "-1\n"
     ]
    }
   ],
   "source": [
    "def ignore_next_comment(start_index):\n",
    "    return data.find(\"\\n\\n\", start_index)\n",
    "index = ignore_next_comment(index)\n",
    "print(index)"
   ]
  },
  {
   "cell_type": "code",
   "execution_count": 8,
   "metadata": {},
   "outputs": [
    {
     "name": "stdout",
     "output_type": "stream",
     "text": [
      "8002\t\"The <e1>company</e1> fabricates plastic <e2>chairs</e2>. 1\n"
     ]
    }
   ],
   "source": [
    "label_map = {}\n",
    "label_map[\"Component-Whole\"] = 0\n",
    "\n",
    "\"\"\"\n",
    "Returns active or passive based on e2,e1 in label and returns the label itself\n",
    "\"\"\"\n",
    "def parse_label(label):\n",
    "    e1_pos = label.find(\"e1\")\n",
    "    e2_pos = label.find(\"e2\")\n",
    "    if e1_pos == -1:\n",
    "        return \"\", 0\n",
    "    is_active = int(e1_pos < e2_pos)\n",
    "    end_label_pos = label.find(\"(\")\n",
    "    return label[:end_label_pos], is_active\n",
    "\n",
    "demo_label, active = parse_label(demo_label)\n",
    "print(demo_label, active)"
   ]
  },
  {
   "cell_type": "code",
   "execution_count": 9,
   "metadata": {},
   "outputs": [],
   "source": [
    "\"\"\"\n",
    "    ACTIVE OR PASSIVE\n",
    "    returns a cleaned sentence and its active or passive label\n",
    "    this is not exactly active or passive\n",
    "\"\"\"\n",
    "def extract_data_point(start_index):\n",
    "    sent, index = get_next_sentence(start_index)\n",
    "    sent = remove_sent_tags(sent)\n",
    "    label, index = get_next_label(index)\n",
    "    label, is_active = parse_label(label)\n",
    "    index = ignore_next_comment(index)\n",
    "    if label == \"\":\n",
    "        return 0, \"\", index\n",
    "    return is_active, sent, index"
   ]
  },
  {
   "cell_type": "code",
   "execution_count": 50,
   "metadata": {},
   "outputs": [
    {
     "name": "stdout",
     "output_type": "stream",
     "text": [
      "1365759\n",
      "6584\n",
      "['The system as described above has its greatest application in an arrayed configuration of antenna elements.', 'The child was carefully wrapped and bound into the cradle by means of a cord.', 'The author of a keygen uses a disassembler to look at the raw assembly code.']\n"
     ]
    }
   ],
   "source": [
    "index = 0\n",
    "#Contains sent and label in dict this is not exactly active or passive\n",
    "data_list = []\n",
    "\n",
    "\"\"\"\n",
    "-3 since the last comment is followed by two \\n\\ns\n",
    "\"\"\"\n",
    "while index <= len(data)-3:\n",
    "    data_dict = {}\n",
    "    is_active, sent, index = extract_data_point(index)\n",
    "    \n",
    "    if sent == \"\":\n",
    "        continue;\n",
    "    \n",
    "    data_dict[\"sent\"] = sent\n",
    "    data_dict[\"label\"] = is_active\n",
    "    data_list.append(data_dict)\n",
    "    \n",
    "print(len(data))\n",
    "print(len(data_list))\n",
    "print(sent_list[:3])"
   ]
  },
  {
   "cell_type": "code",
   "execution_count": 51,
   "metadata": {},
   "outputs": [
    {
     "name": "stdout",
     "output_type": "stream",
     "text": [
      "{'sent': 'Initially the user calibrates the microscope with a fluorescence lifetime standard positioned at the sample plane.', 'label': 0}\n"
     ]
    }
   ],
   "source": [
    "print(data_list[137])"
   ]
  },
  {
   "cell_type": "code",
   "execution_count": 67,
   "metadata": {},
   "outputs": [],
   "source": [
    "# store the data in a file\n",
    "##################\n",
    "import json\n",
    "with open(\"semeval_dataset.json\", \"w\") as f:\n",
    "    data = json.dump(data_list, f, sort_keys=False, indent=4)"
   ]
  },
  {
   "cell_type": "code",
   "execution_count": 31,
   "metadata": {},
   "outputs": [
    {
     "data": {
      "text/plain": [
       "'C:\\\\Users\\\\kaidpinck\\\\thesis\\\\thesis\\\\classifier\\\\semeval2010task8'"
      ]
     },
     "execution_count": 31,
     "metadata": {},
     "output_type": "execute_result"
    }
   ],
   "source": [
    "import os\n",
    "os.getcwd()\n"
   ]
  },
  {
   "cell_type": "code",
   "execution_count": 10,
   "metadata": {},
   "outputs": [],
   "source": [
    "\"\"\"\n",
    "returns the sentence along with its semantic label\n",
    "\"\"\"\n",
    "def extract_semeval_data(start_index):\n",
    "    sent, index = get_next_sentence(start_index)\n",
    "    sent = remove_sent_tags(sent)\n",
    "    label, index = get_next_label(index)\n",
    "    label, _ = parse_label(label)\n",
    "    index = ignore_next_comment(index)\n",
    "    return label, sent, index"
   ]
  },
  {
   "cell_type": "code",
   "execution_count": 11,
   "metadata": {},
   "outputs": [
    {
     "ename": "KeyError",
     "evalue": "'8002\\t\"The <e1>company</e1> fabricates plastic <e2>chairs</e2>.'",
     "output_type": "error",
     "traceback": [
      "\u001b[1;31m---------------------------------------------------------------------------\u001b[0m",
      "\u001b[1;31mKeyError\u001b[0m                                  Traceback (most recent call last)",
      "\u001b[1;32m<ipython-input-11-8942fd646077>\u001b[0m in \u001b[0;36m<module>\u001b[1;34m\u001b[0m\n\u001b[0;32m     27\u001b[0m \u001b[1;33m\u001b[0m\u001b[0m\n\u001b[0;32m     28\u001b[0m     \u001b[0mdata_dict\u001b[0m\u001b[1;33m[\u001b[0m\u001b[1;34m\"sent\"\u001b[0m\u001b[1;33m]\u001b[0m \u001b[1;33m=\u001b[0m \u001b[0msent\u001b[0m\u001b[1;33m\u001b[0m\u001b[1;33m\u001b[0m\u001b[0m\n\u001b[1;32m---> 29\u001b[1;33m     \u001b[0mdata_dict\u001b[0m\u001b[1;33m[\u001b[0m\u001b[1;34m\"label\"\u001b[0m\u001b[1;33m]\u001b[0m \u001b[1;33m=\u001b[0m \u001b[0mlabel_map\u001b[0m\u001b[1;33m[\u001b[0m\u001b[0mlabel\u001b[0m\u001b[1;33m]\u001b[0m\u001b[1;33m\u001b[0m\u001b[1;33m\u001b[0m\u001b[0m\n\u001b[0m\u001b[0;32m     30\u001b[0m     \u001b[0mdata_list\u001b[0m\u001b[1;33m.\u001b[0m\u001b[0mappend\u001b[0m\u001b[1;33m(\u001b[0m\u001b[0mdata_dict\u001b[0m\u001b[1;33m)\u001b[0m\u001b[1;33m\u001b[0m\u001b[1;33m\u001b[0m\u001b[0m\n\u001b[0;32m     31\u001b[0m \u001b[1;33m\u001b[0m\u001b[0m\n",
      "\u001b[1;31mKeyError\u001b[0m: '8002\\t\"The <e1>company</e1> fabricates plastic <e2>chairs</e2>.'"
     ]
    }
   ],
   "source": [
    "index = 0\n",
    "#dataset all labels\n",
    "#################################################################\n",
    "\n",
    "label_map = {}\n",
    "label_map[\"Cause-Effect\"] = 0\n",
    "label_map[\"Instrument-Agency\"] = 1\n",
    "label_map[\"Product-Producer\"] = 2\n",
    "label_map[\"Content-Container\"] = 3\n",
    "label_map[\"Entity-Origin\"] = 4\n",
    "label_map[\"Entity-Destination\"] = 5\n",
    "label_map[\"Component-Whole\"] = 6\n",
    "label_map[\"Member-Collection\"] = 7\n",
    "label_map[\"Message-Topic\"] = 8\n",
    "label_map[\"\"] = 9\n",
    "\n",
    "\n",
    "\n",
    "data_list = []\n",
    "\n",
    "\"\"\"\n",
    "-3 since the last comment is followed by two \\n\\ns\n",
    "\"\"\"\n",
    "while index <= len(data)-3:\n",
    "    data_dict = {}\n",
    "    label, sent, index = extract_semeval_data(index)\n",
    "    \n",
    "    data_dict[\"sent\"] = sent\n",
    "    data_dict[\"label\"] = label_map[label]\n",
    "    data_list.append(data_dict)\n",
    "    \n",
    "print(len(data_list))\n",
    "print(sent_list[:3])\n",
    "print(data_list[:5])"
   ]
  },
  {
   "cell_type": "code",
   "execution_count": 77,
   "metadata": {},
   "outputs": [
    {
     "name": "stdout",
     "output_type": "stream",
     "text": [
      "8000\n",
      "['The system as described above has its greatest application in an arrayed configuration of antenna elements.', 'The child was carefully wrapped and bound into the cradle by means of a cord.', 'The author of a keygen uses a disassembler to look at the raw assembly code.']\n",
      "[{'sent': 'The system as described above has its greatest application in an arrayed configuration of antenna elements.', 'label': 1}, {'sent': 'The child was carefully wrapped and bound into the cradle by means of a cord.', 'label': 1}, {'sent': 'The author of a keygen uses a disassembler to look at the raw assembly code.', 'label': 1}, {'sent': 'A misty ridge uprises from the surge.', 'label': 1}, {'sent': 'The student association is the voice of the undergraduate student population of the State University of New York at Buffalo.', 'label': 1}]\n"
     ]
    }
   ],
   "source": [
    "index = 0\n",
    "#dataset only cause-effect and other\n",
    "#################################################################\n",
    "\n",
    "label_map = {}\n",
    "label_map[\"Cause-Effect\"] = 0\n",
    "label_map[\"Instrument-Agency\"] = 1\n",
    "label_map[\"Product-Producer\"] = 1\n",
    "label_map[\"Content-Container\"] = 1\n",
    "label_map[\"Entity-Origin\"] = 1\n",
    "label_map[\"Entity-Destination\"] = 1\n",
    "label_map[\"Component-Whole\"] = 1\n",
    "label_map[\"Member-Collection\"] = 1\n",
    "label_map[\"Message-Topic\"] = 1\n",
    "label_map[\"\"] = 1\n",
    "\n",
    "\n",
    "\n",
    "data_list = []\n",
    "\n",
    "\"\"\"\n",
    "-3 since the last comment is followed by two \\n\\ns\n",
    "\"\"\"\n",
    "while index <= len(data)-3:\n",
    "    data_dict = {}\n",
    "    label, sent, index = extract_semeval_data(index)\n",
    "    \n",
    "    data_dict[\"sent\"] = sent\n",
    "    data_dict[\"label\"] = label_map[label]\n",
    "    data_list.append(data_dict)\n",
    "    \n",
    "print(len(data_list))\n",
    "print(sent_list[:3])\n",
    "print(data_list[:5])"
   ]
  },
  {
   "cell_type": "code",
   "execution_count": 78,
   "metadata": {},
   "outputs": [],
   "source": [
    "# store the data in a file\n",
    "##################\n",
    "import json\n",
    "with open(\"causalclassifier_dataset.json\", \"w\") as f:\n",
    "    data = json.dump(data_list, f, sort_keys=False, indent=4)"
   ]
  },
  {
   "cell_type": "code",
   "execution_count": null,
   "metadata": {},
   "outputs": [],
   "source": []
  },
  {
   "cell_type": "code",
   "execution_count": null,
   "metadata": {},
   "outputs": [],
   "source": []
  }
 ],
 "metadata": {
  "kernelspec": {
   "display_name": "Python 3",
   "language": "python",
   "name": "python3"
  },
  "language_info": {
   "codemirror_mode": {
    "name": "ipython",
    "version": 3
   },
   "file_extension": ".py",
   "mimetype": "text/x-python",
   "name": "python",
   "nbconvert_exporter": "python",
   "pygments_lexer": "ipython3",
   "version": "3.8.4"
  }
 },
 "nbformat": 4,
 "nbformat_minor": 4
}
