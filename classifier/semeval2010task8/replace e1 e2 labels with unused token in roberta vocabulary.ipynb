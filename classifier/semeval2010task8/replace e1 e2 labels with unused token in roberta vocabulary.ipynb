{
 "cells": [
  {
   "cell_type": "code",
   "execution_count": 3,
   "metadata": {},
   "outputs": [],
   "source": [
    "import json\n",
    "with open(\"semeval_datasetV4_no_empty_labels.json\", \"r\") as f:\n",
    "    data = json.load(f)"
   ]
  },
  {
   "cell_type": "code",
   "execution_count": null,
   "metadata": {},
   "outputs": [],
   "source": [
    "unused roberta tokens\n",
    "madeupword0000\n",
    "madeupword0001"
   ]
  },
  {
   "cell_type": "code",
   "execution_count": null,
   "metadata": {},
   "outputs": [],
   "source": []
  },
  {
   "cell_type": "code",
   "execution_count": 7,
   "metadata": {},
   "outputs": [
    {
     "name": "stdout",
     "output_type": "stream",
     "text": [
      "{'sent': 'The system as described above has its greatest application in an arrayed madeupword0000 of antenna madeupword0001.', 'relation_type': 6, 'is_active': 0, 'e1_contents': 'configuration', 'e2_contents': 'elements', 'id': 'original:1'}\n"
     ]
    }
   ],
   "source": [
    "updated = []\n",
    "for d in data:\n",
    "    new = d\n",
    "    new[\"sent\"] = d[\"sent\"].replace(d[\"e1_contents\"], \"madeupword0000\")\n",
    "    new[\"sent\"] = d[\"sent\"].replace(d[\"e2_contents\"], \"madeupword0001\")\n",
    "    updated.append(d)\n",
    "print(updated[0])\n",
    "\n",
    "\n",
    "\n"
   ]
  },
  {
   "cell_type": "code",
   "execution_count": 8,
   "metadata": {},
   "outputs": [],
   "source": [
    "with open(\"replaced_e1_e2_for_stage_2.json\", \"w\") as f:\n",
    "    json.dump(data, f, indent = 4)"
   ]
  }
 ],
 "metadata": {
  "kernelspec": {
   "display_name": "Python 3",
   "language": "python",
   "name": "python3"
  },
  "language_info": {
   "codemirror_mode": {
    "name": "ipython",
    "version": 3
   },
   "file_extension": ".py",
   "mimetype": "text/x-python",
   "name": "python",
   "nbconvert_exporter": "python",
   "pygments_lexer": "ipython3",
   "version": "3.8.4"
  }
 },
 "nbformat": 4,
 "nbformat_minor": 4
}
