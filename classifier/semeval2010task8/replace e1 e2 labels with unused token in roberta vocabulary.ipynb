{
 "cells": [
  {
   "cell_type": "code",
   "execution_count": 5,
   "metadata": {},
   "outputs": [],
   "source": [
    "import json\n",
    "with open(\"semeval_testV4.json\", \"r\") as f:\n",
    "    data = json.load(f)"
   ]
  },
  {
   "cell_type": "code",
   "execution_count": null,
   "metadata": {},
   "outputs": [],
   "source": [
    "unused roberta tokens\n",
    "madeupword0000\n",
    "madeupword0001\n",
    "\n",
    "This did not seem to work so I replaced them with 0000 and 0001 which should\n",
    "not have too much conflicting meaning to the model."
   ]
  },
  {
   "cell_type": "code",
   "execution_count": null,
   "metadata": {},
   "outputs": [],
   "source": []
  },
  {
   "cell_type": "code",
   "execution_count": 6,
   "metadata": {},
   "outputs": [
    {
     "name": "stdout",
     "output_type": "stream",
     "text": [
      "{'sent': 'The most common 0001 were about 0002 and recycling.', 'relation_type': 8, 'is_active': 1, 'e1_contents': 'audits', 'e2_contents': 'waste'}\n"
     ]
    }
   ],
   "source": [
    "updated = []\n",
    "for d in data:\n",
    "    new = d\n",
    "    new[\"sent\"] = d[\"sent\"].replace(d[\"e1_contents\"], \"0001\")\n",
    "    new[\"sent\"] = d[\"sent\"].replace(d[\"e2_contents\"], \"0002\")\n",
    "    updated.append(d)\n",
    "print(updated[0])\n",
    "\n",
    "\n",
    "\n"
   ]
  },
  {
   "cell_type": "code",
   "execution_count": 21,
   "metadata": {},
   "outputs": [],
   "source": [
    "with open(\"replaced_e1_e2_for_stage_2.json\", \"w\") as f:\n",
    "    json.dump(data, f, indent = 4)\n",
    "    \n",
    "    \n",
    "    "
   ]
  },
  {
   "cell_type": "code",
   "execution_count": 7,
   "metadata": {},
   "outputs": [
    {
     "name": "stdout",
     "output_type": "stream",
     "text": [
      "323\n"
     ]
    }
   ],
   "source": [
    "causal = []\n",
    "for d in updated:\n",
    "    if d[\"relation_type\"] == 0:\n",
    "        causal.append(d)\n",
    "print(len(causal))"
   ]
  },
  {
   "cell_type": "code",
   "execution_count": 8,
   "metadata": {},
   "outputs": [],
   "source": [
    "with open(\"semeval_test_set_step_2V4.json\", \"w\") as f:\n",
    "    json.dump(causal, f, indent = 4)"
   ]
  }
 ],
 "metadata": {
  "kernelspec": {
   "display_name": "Python 3",
   "language": "python",
   "name": "python3"
  },
  "language_info": {
   "codemirror_mode": {
    "name": "ipython",
    "version": 3
   },
   "file_extension": ".py",
   "mimetype": "text/x-python",
   "name": "python",
   "nbconvert_exporter": "python",
   "pygments_lexer": "ipython3",
   "version": "3.8.4"
  }
 },
 "nbformat": 4,
 "nbformat_minor": 4
}
