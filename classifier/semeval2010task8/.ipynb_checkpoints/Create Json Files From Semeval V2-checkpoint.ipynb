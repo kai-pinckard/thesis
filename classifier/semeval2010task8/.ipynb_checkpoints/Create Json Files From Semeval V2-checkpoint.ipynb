{
 "cells": [
  {
   "cell_type": "code",
   "execution_count": 69,
   "metadata": {},
   "outputs": [],
   "source": [
    "\"\"\"\n",
    "Data Format\n",
    "Sentence with e1 e2 labels removed\n",
    "contains the indice in sentence(with e1 and e2 removed) for the first and last characters of e1 and e2 elements\n",
    "is_active_e - 1 or 0 depending on if the sentence is active or passive voice according to the e1 e2 labels.\n",
    "relationship type - [0-9] - a number corresponding to what type of relationship the sentence is an instance of\n",
    "    label_map = {}\n",
    "    label_map[\"Cause-Effect\"] = 0\n",
    "    label_map[\"Instrument-Agency\"] = 1\n",
    "    label_map[\"Product-Producer\"] = 2\n",
    "    label_map[\"Content-Container\"] = 3\n",
    "    label_map[\"Entity-Origin\"] = 4\n",
    "    label_map[\"Entity-Destination\"] = 5\n",
    "    label_map[\"Component-Whole\"] = 6\n",
    "    label_map[\"Member-Collection\"] = 7\n",
    "    label_map[\"Message-Topic\"] = 8\n",
    "    label_map[\"\"] = 9\n",
    "\"\"\""
   ]
  },
  {
   "cell_type": "code",
   "execution_count": null,
   "metadata": {},
   "outputs": [],
   "source": [
    "# Load the dataset\n",
    "with open(\"TRAIN_FILE.TXT\", \"r\") as f:\n",
    "    data = f.read()"
   ]
  },
  {
   "cell_type": "code",
   "execution_count": 70,
   "metadata": {},
   "outputs": [
    {
     "name": "stdout",
     "output_type": "stream",
     "text": [
      "The system as described above has its greatest application in an arrayed <e1>configuration</e1> of antenna <e2>elements</e2>.\n"
     ]
    }
   ],
   "source": [
    "# Create Active Passive Dataset\n",
    "################################\n",
    "cur_pos = 0\n",
    "\"\"\"\n",
    "    Returns the first occurance of a sentence at or after start_index\n",
    "\"\"\"\n",
    "def get_next_sentence(start_index):\n",
    "    sent_start = data.find('\\\"', start_index) + 1\n",
    "    sent_end = data.find('\\\"', sent_start)\n",
    "    return data[sent_start:sent_end], sent_end\n",
    "\n",
    "demo_sent, index = get_next_sentence(0)\n",
    "print(demo_sent)"
   ]
  },
  {
   "cell_type": "code",
   "execution_count": 71,
   "metadata": {},
   "outputs": [
    {
     "name": "stdout",
     "output_type": "stream",
     "text": [
      "The system as described above has its greatest application in an arrayed configuration of antenna elements.\n"
     ]
    }
   ],
   "source": [
    "\"\"\"\n",
    "Removes the <e1> </e2> tags from the sentence.\n",
    "\"\"\"\n",
    "def remove_sent_tags(sent):\n",
    "    sent = sent.replace(\"<e1>\", \"\")\n",
    "    sent = sent.replace(\"</e1>\", \"\")\n",
    "    sent = sent.replace(\"<e2>\", \"\")\n",
    "    return sent.replace(\"</e2>\", \"\")\n",
    "\n",
    "demo_sent = remove_sent_tags(demo_sent)\n",
    "print(demo_sent)"
   ]
  },
  {
   "cell_type": "code",
   "execution_count": 72,
   "metadata": {},
   "outputs": [
    {
     "name": "stdout",
     "output_type": "stream",
     "text": [
      "Component-Whole(e2,e1) 152\n"
     ]
    }
   ],
   "source": [
    "\"\"\"\n",
    "returns the first label occuring after \n",
    "\"\"\"\n",
    "def get_next_label(start_index):\n",
    "    # The label occurs one character after the newline\n",
    "    label_start = data.find(\"\\n\", start_index) + 1\n",
    "    label_end = data.find(\"\\n\", label_start)\n",
    "    return data[label_start:label_end], label_end\n",
    "demo_label, index = get_next_label(index)\n",
    "print(demo_label, index)"
   ]
  },
  {
   "cell_type": "code",
   "execution_count": 73,
   "metadata": {},
   "outputs": [
    {
     "name": "stdout",
     "output_type": "stream",
     "text": [
      "218\n"
     ]
    }
   ],
   "source": [
    "def ignore_next_comment(start_index):\n",
    "    return data.find(\"\\n\\n\", start_index)\n",
    "index = ignore_next_comment(index)\n",
    "print(index)"
   ]
  },
  {
   "cell_type": "code",
   "execution_count": 74,
   "metadata": {},
   "outputs": [
    {
     "name": "stdout",
     "output_type": "stream",
     "text": [
      "Component-Whole 0\n"
     ]
    }
   ],
   "source": [
    "label_map = {}\n",
    "label_map[\"Component-Whole\"] = 0\n",
    "\n",
    "\"\"\"\n",
    "Returns active or passive based on e2,e1 in label and returns the label itself\n",
    "\"\"\"\n",
    "def parse_label(label):\n",
    "    e1_pos = label.find(\"e1\")\n",
    "    e2_pos = label.find(\"e2\")\n",
    "    if e1_pos == -1:\n",
    "        return \"\", 0\n",
    "    is_active = int(e1_pos < e2_pos)\n",
    "    end_label_pos = label.find(\"(\")\n",
    "    return label[:end_label_pos], is_active\n",
    "\n",
    "demo_label, active = parse_label(demo_label)\n",
    "print(demo_label, active)"
   ]
  },
  {
   "cell_type": "code",
   "execution_count": 75,
   "metadata": {},
   "outputs": [],
   "source": [
    "\"\"\"\n",
    "    ACTIVE OR PASSIVE\n",
    "    returns a cleaned sentence and its active or passive label\n",
    "    this is not exactly active or passive\n",
    "\"\"\"\n",
    "def extract_data_point(start_index):\n",
    "    sent, index = get_next_sentence(start_index)\n",
    "    sent = remove_sent_tags(sent)\n",
    "    label, index = get_next_label(index)\n",
    "    label, is_active = parse_label(label)\n",
    "    index = ignore_next_comment(index)\n",
    "    if label == \"\":\n",
    "        return 0, \"\", index\n",
    "    return is_active, sent, index"
   ]
  },
  {
   "cell_type": "code",
   "execution_count": 50,
   "metadata": {},
   "outputs": [
    {
     "name": "stdout",
     "output_type": "stream",
     "text": [
      "1365759\n",
      "6584\n",
      "['The system as described above has its greatest application in an arrayed configuration of antenna elements.', 'The child was carefully wrapped and bound into the cradle by means of a cord.', 'The author of a keygen uses a disassembler to look at the raw assembly code.']\n"
     ]
    }
   ],
   "source": [
    "index = 0\n",
    "#Contains sent and label in dict this is not exactly active or passive\n",
    "data_list = []\n",
    "\n",
    "\"\"\"\n",
    "-3 since the last comment is followed by two \\n\\ns\n",
    "\"\"\"\n",
    "while index <= len(data)-3:\n",
    "    data_dict = {}\n",
    "    is_active, sent, index = extract_data_point(index)\n",
    "    \n",
    "    if sent == \"\":\n",
    "        continue;\n",
    "    \n",
    "    data_dict[\"sent\"] = sent\n",
    "    data_dict[\"label\"] = is_active\n",
    "    data_list.append(data_dict)\n",
    "    \n",
    "print(len(data))\n",
    "print(len(data_list))\n",
    "print(sent_list[:3])"
   ]
  },
  {
   "cell_type": "code",
   "execution_count": 51,
   "metadata": {},
   "outputs": [
    {
     "name": "stdout",
     "output_type": "stream",
     "text": [
      "{'sent': 'Initially the user calibrates the microscope with a fluorescence lifetime standard positioned at the sample plane.', 'label': 0}\n"
     ]
    }
   ],
   "source": [
    "print(data_list[137])"
   ]
  },
  {
   "cell_type": "code",
   "execution_count": 67,
   "metadata": {},
   "outputs": [],
   "source": [
    "# store the data in a file\n",
    "##################\n",
    "import json\n",
    "with open(\"semeval_dataset.json\", \"w\") as f:\n",
    "    data = json.dump(data_list, f, sort_keys=False, indent=4)"
   ]
  },
  {
   "cell_type": "code",
   "execution_count": 31,
   "metadata": {},
   "outputs": [
    {
     "data": {
      "text/plain": [
       "'C:\\\\Users\\\\kaidpinck\\\\thesis\\\\thesis\\\\classifier\\\\semeval2010task8'"
      ]
     },
     "execution_count": 31,
     "metadata": {},
     "output_type": "execute_result"
    }
   ],
   "source": [
    "import os\n",
    "os.getcwd()\n"
   ]
  },
  {
   "cell_type": "code",
   "execution_count": 76,
   "metadata": {},
   "outputs": [],
   "source": [
    "\"\"\"\n",
    "returns the sentence along with its semantic label\n",
    "\"\"\"\n",
    "def extract_semeval_data(start_index):\n",
    "    sent, index = get_next_sentence(start_index)\n",
    "    sent = remove_sent_tags(sent)\n",
    "    label, index = get_next_label(index)\n",
    "    label, _ = parse_label(label)\n",
    "    index = ignore_next_comment(index)\n",
    "    return label, sent, index"
   ]
  },
  {
   "cell_type": "code",
   "execution_count": 66,
   "metadata": {},
   "outputs": [
    {
     "name": "stdout",
     "output_type": "stream",
     "text": [
      "8000\n",
      "['The system as described above has its greatest application in an arrayed configuration of antenna elements.', 'The child was carefully wrapped and bound into the cradle by means of a cord.', 'The author of a keygen uses a disassembler to look at the raw assembly code.']\n",
      "[{'sent': 'The system as described above has its greatest application in an arrayed configuration of antenna elements.', 'label': 6}, {'sent': 'The child was carefully wrapped and bound into the cradle by means of a cord.', 'label': 9}, {'sent': 'The author of a keygen uses a disassembler to look at the raw assembly code.', 'label': 1}, {'sent': 'A misty ridge uprises from the surge.', 'label': 9}, {'sent': 'The student association is the voice of the undergraduate student population of the State University of New York at Buffalo.', 'label': 7}]\n"
     ]
    }
   ],
   "source": [
    "index = 0\n",
    "#dataset all labels\n",
    "#################################################################\n",
    "\n",
    "label_map = {}\n",
    "label_map[\"Cause-Effect\"] = 0\n",
    "label_map[\"Instrument-Agency\"] = 1\n",
    "label_map[\"Product-Producer\"] = 2\n",
    "label_map[\"Content-Container\"] = 3\n",
    "label_map[\"Entity-Origin\"] = 4\n",
    "label_map[\"Entity-Destination\"] = 5\n",
    "label_map[\"Component-Whole\"] = 6\n",
    "label_map[\"Member-Collection\"] = 7\n",
    "label_map[\"Message-Topic\"] = 8\n",
    "label_map[\"\"] = 9\n",
    "\n",
    "\n",
    "\n",
    "data_list = []\n",
    "\n",
    "\"\"\"\n",
    "-3 since the last comment is followed by two \\n\\ns\n",
    "\"\"\"\n",
    "while index <= len(data)-3:\n",
    "    data_dict = {}\n",
    "    label, sent, index = extract_semeval_data(index)\n",
    "    \n",
    "    data_dict[\"sent\"] = sent\n",
    "    data_dict[\"label\"] = label_map[label]\n",
    "    data_list.append(data_dict)\n",
    "    \n",
    "print(len(data_list))\n",
    "print(sent_list[:3])\n",
    "print(data_list[:5])"
   ]
  },
  {
   "cell_type": "code",
   "execution_count": 77,
   "metadata": {},
   "outputs": [
    {
     "name": "stdout",
     "output_type": "stream",
     "text": [
      "8000\n",
      "['The system as described above has its greatest application in an arrayed configuration of antenna elements.', 'The child was carefully wrapped and bound into the cradle by means of a cord.', 'The author of a keygen uses a disassembler to look at the raw assembly code.']\n",
      "[{'sent': 'The system as described above has its greatest application in an arrayed configuration of antenna elements.', 'label': 1}, {'sent': 'The child was carefully wrapped and bound into the cradle by means of a cord.', 'label': 1}, {'sent': 'The author of a keygen uses a disassembler to look at the raw assembly code.', 'label': 1}, {'sent': 'A misty ridge uprises from the surge.', 'label': 1}, {'sent': 'The student association is the voice of the undergraduate student population of the State University of New York at Buffalo.', 'label': 1}]\n"
     ]
    }
   ],
   "source": [
    "index = 0\n",
    "#dataset only cause-effect and other\n",
    "#################################################################\n",
    "\n",
    "label_map = {}\n",
    "label_map[\"Cause-Effect\"] = 0\n",
    "label_map[\"Instrument-Agency\"] = 1\n",
    "label_map[\"Product-Producer\"] = 1\n",
    "label_map[\"Content-Container\"] = 1\n",
    "label_map[\"Entity-Origin\"] = 1\n",
    "label_map[\"Entity-Destination\"] = 1\n",
    "label_map[\"Component-Whole\"] = 1\n",
    "label_map[\"Member-Collection\"] = 1\n",
    "label_map[\"Message-Topic\"] = 1\n",
    "label_map[\"\"] = 1\n",
    "\n",
    "\n",
    "\n",
    "data_list = []\n",
    "\n",
    "\"\"\"\n",
    "-3 since the last comment is followed by two \\n\\ns\n",
    "\"\"\"\n",
    "while index <= len(data)-3:\n",
    "    data_dict = {}\n",
    "    label, sent, index = extract_semeval_data(index)\n",
    "    \n",
    "    data_dict[\"sent\"] = sent\n",
    "    data_dict[\"label\"] = label_map[label]\n",
    "    data_list.append(data_dict)\n",
    "    \n",
    "print(len(data_list))\n",
    "print(sent_list[:3])\n",
    "print(data_list[:5])"
   ]
  },
  {
   "cell_type": "code",
   "execution_count": 78,
   "metadata": {},
   "outputs": [],
   "source": [
    "# store the data in a file\n",
    "##################\n",
    "import json\n",
    "with open(\"causalclassifier_dataset.json\", \"w\") as f:\n",
    "    data = json.dump(data_list, f, sort_keys=False, indent=4)"
   ]
  },
  {
   "cell_type": "code",
   "execution_count": null,
   "metadata": {},
   "outputs": [],
   "source": []
  },
  {
   "cell_type": "code",
   "execution_count": null,
   "metadata": {},
   "outputs": [],
   "source": []
  }
 ],
 "metadata": {
  "kernelspec": {
   "display_name": "Python 3",
   "language": "python",
   "name": "python3"
  },
  "language_info": {
   "codemirror_mode": {
    "name": "ipython",
    "version": 3
   },
   "file_extension": ".py",
   "mimetype": "text/x-python",
   "name": "python",
   "nbconvert_exporter": "python",
   "pygments_lexer": "ipython3",
   "version": "3.8.4"
  }
 },
 "nbformat": 4,
 "nbformat_minor": 4
}
