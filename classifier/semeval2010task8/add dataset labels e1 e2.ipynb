{
 "cells": [
  {
   "cell_type": "code",
   "execution_count": 42,
   "metadata": {},
   "outputs": [],
   "source": [
    "import json\n",
    "\n",
    "with open(\"semeval_datasetV3.json\", \"r\") as f:\n",
    "    data = json.load(f)\n",
    "\n",
    "# Adds the e1 e2 tags back into a sentence\n",
    "def insert_e1_e2_labels(sent, e1, e2):\n",
    "    e1_start = sent.find(e1)\n",
    "    e1_end = sent.find(\" \", e1_start)\n",
    "    if e1_start == -1:\n",
    "        print(\"error unable to find\", e1, \"in\", sent)\n",
    "    e1_desig_s = \"<e1>\"\n",
    "    e1_desig_e = \"</e1>\"\n",
    "    sent = sent[:e1_start] + e1_desig_s + sent[e1_start:e1_end] + e1_desig_e + sent[e1_end:]\n",
    "    \n",
    "    e2_start = sent.find(e2)\n",
    "    e2_end = sent.find(\" \", e2_start)\n",
    "    if e2_start == -1:\n",
    "        print(\"error unable to find\", e2, \"in\", sent)\n",
    "    e2_desig_s = \"<e2>\"\n",
    "    e2_desig_e = \"</e2>\"\n",
    "    sent = sent[:e2_start] + e2_desig_s + sent[e2_start:e2_end] + e2_desig_e + sent[e2_end:]\n",
    "    return sent\n",
    "    \n",
    "# Adds the e1 e2 lables to all datapoints in dataset\n",
    "def add_e1_e2_labels(dataset):\n",
    "    for i, d in enumerate(dataset):\n",
    "        d[\"sent\"] = insert_e1_e2_labels(d[\"sent\"], d[\"e1_contents\"], d[\"e2_contents\"])\n",
    "    return dataset"
   ]
  },
  {
   "cell_type": "code",
   "execution_count": 43,
   "metadata": {},
   "outputs": [
    {
     "name": "stdout",
     "output_type": "stream",
     "text": [
      "{'sent': 'The system as described above has its greatest application in an arrayed configuration of antenna elements.', 'relation_type': 6, 'is_active': 0, 'e1_contents': 'configuration', 'e2_contents': 'elements', 'id': 'original:1'}\n",
      "{'sent': 'The <e1>author</e1> of a keygen uses a <e2>disassembler</e2> to look at the raw assembly code.', 'relation_type': 1, 'is_active': 0, 'e1_contents': 'author', 'e2_contents': 'disassembler', 'id': 'original:3'}\n"
     ]
    }
   ],
   "source": [
    "sentence = data[0]\n",
    "print(sentence)\n",
    "insert_e1_e2_labels(sentence[\"sent\"], sentence[\"e1_contents\"], sentence[\"e2_contents\"])\n",
    "\n",
    "data = add_e1_e2_labels(data)\n",
    "print(data[2])\n",
    "\n"
   ]
  },
  {
   "cell_type": "code",
   "execution_count": 44,
   "metadata": {},
   "outputs": [],
   "source": [
    "with open(\"labeled_semeval_dataset.json\", \"w\") as f:\n",
    "    json.dump(data, f, indent = 4)"
   ]
  }
 ],
 "metadata": {
  "kernelspec": {
   "display_name": "Python 3",
   "language": "python",
   "name": "python3"
  },
  "language_info": {
   "codemirror_mode": {
    "name": "ipython",
    "version": 3
   },
   "file_extension": ".py",
   "mimetype": "text/x-python",
   "name": "python",
   "nbconvert_exporter": "python",
   "pygments_lexer": "ipython3",
   "version": "3.8.4"
  }
 },
 "nbformat": 4,
 "nbformat_minor": 4
}
