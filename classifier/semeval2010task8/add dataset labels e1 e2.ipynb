{
 "cells": [
  {
   "cell_type": "code",
   "execution_count": 19,
   "metadata": {},
   "outputs": [],
   "source": [
    "import json\n",
    "\n",
    "with open(\"semeval_datasetV3.json\", \"r\") as f:\n",
    "    data = json.load(f)\n",
    "\n"
   ]
  },
  {
   "cell_type": "code",
   "execution_count": 20,
   "metadata": {},
   "outputs": [],
   "source": [
    "# Adds the e1 e2 tags back into a sentence\n",
    "def insert_e1_e2_labels(sent, e1, e2):\n",
    "    e1_start = sent.find(e1)\n",
    "    e1_end = sent.find(\" \", e1_start)\n",
    "    if e1_start == -1:\n",
    "        print(\"error unable to find\", e1, \"in\", sent)\n",
    "    e1_desig_s = \"<e1>\"\n",
    "    e1_desig_e = \"</e1>\"\n",
    "    sent = sent[:e1_start] + e1_desig_s + sent[e1_start:e1_end] + e1_desig_e + sent[e1_end:]\n",
    "    \n",
    "    e2_start = sent.find(e2)\n",
    "    e2_end = sent.find(\" \", e2_start)\n",
    "    if e2_start == -1:\n",
    "        print(\"error unable to find\", e2, \"in\", sent)\n",
    "    e2_desig_s = \"<e2>\"\n",
    "    e2_desig_e = \"</e2>\"\n",
    "    sent = sent[:e2_start] + e2_desig_s + sent[e2_start:e2_end] + e2_desig_e + sent[e2_end:]\n",
    "    return sent\n",
    "    \n",
    "# Adds the e1 e2 lables to all datapoints in dataset\n",
    "def add_e1_e2_labels(dataset):\n",
    "    for i, d in enumerate(dataset):\n",
    "        d[\"sent\"] = insert_e1_e2_labels(d[\"sent\"], d[\"e1_contents\"], d[\"e2_contents\"])\n",
    "    return dataset"
   ]
  },
  {
   "cell_type": "code",
   "execution_count": 21,
   "metadata": {},
   "outputs": [],
   "source": [
    "def duplicate_and_reverse_labels(dataset):\n",
    "    new_data = []\n",
    "    i = 0\n",
    "    for d in dataset:\n",
    "        datapoint = {}\n",
    "        datapoint[\"sent\"] = d[\"sent\"]\n",
    "        datapoint[\"relation_type\"] = d[\"relation_type\"]\n",
    "        if d[\"is_active\"] == 1:\n",
    "            datapoint[\"is_active\"] = 0\n",
    "        else:\n",
    "            datapoint[\"is_active\"] = 0\n",
    "        datapoint[\"e1_contents\"] = d[\"e2_contents\"]\n",
    "        datapoint[\"e2_contents\"] = d[\"e1_contents\"]\n",
    "        datapoint[\"id\"] = \"reversed_\" + d[\"id\"]\n",
    "        new_data.append(datapoint)\n",
    "        i += 1\n",
    "        if i % 100 == 0:\n",
    "            print(i)\n",
    "        \n",
    "    return new_data\n",
    "    \n",
    "    "
   ]
  },
  {
   "cell_type": "code",
   "execution_count": 22,
   "metadata": {},
   "outputs": [
    {
     "name": "stdout",
     "output_type": "stream",
     "text": [
      "{'sent': 'The system as described above has its greatest application in an arrayed configuration of antenna elements.', 'relation_type': 6, 'is_active': 0, 'e1_contents': 'configuration', 'e2_contents': 'elements', 'id': 'original:1'}\n",
      "100\n",
      "200\n",
      "300\n",
      "400\n",
      "500\n",
      "600\n",
      "700\n",
      "800\n",
      "900\n",
      "1000\n",
      "1100\n",
      "1200\n",
      "1300\n",
      "1400\n",
      "1500\n",
      "1600\n",
      "1700\n",
      "1800\n",
      "1900\n",
      "2000\n",
      "2100\n",
      "2200\n",
      "2300\n",
      "2400\n",
      "2500\n",
      "2600\n",
      "2700\n",
      "2800\n",
      "2900\n",
      "3000\n",
      "3100\n",
      "3200\n",
      "3300\n",
      "3400\n",
      "3500\n",
      "3600\n",
      "3700\n",
      "3800\n",
      "3900\n",
      "4000\n",
      "4100\n",
      "4200\n",
      "4300\n",
      "4400\n",
      "4500\n",
      "4600\n",
      "4700\n",
      "4800\n",
      "4900\n",
      "5000\n",
      "5100\n",
      "5200\n",
      "5300\n",
      "5400\n",
      "5500\n",
      "5600\n",
      "5700\n",
      "5800\n",
      "5900\n",
      "6000\n",
      "6100\n",
      "6200\n",
      "6300\n",
      "6400\n",
      "6500\n",
      "6600\n",
      "6700\n",
      "6800\n",
      "6900\n",
      "7000\n",
      "7100\n",
      "7200\n",
      "7300\n",
      "7400\n",
      "7500\n",
      "7600\n",
      "7700\n",
      "7800\n",
      "7900\n",
      "8000\n",
      "{'sent': 'The child was carefully wrapped and bound into the cradle by means of a cord.', 'relation_type': 9, 'is_active': 0, 'e1_contents': 'cradle', 'e2_contents': 'child', 'id': 'reversed_original:2'}\n"
     ]
    }
   ],
   "source": [
    "sentence = data[0]\n",
    "print(sentence)\n",
    "#insert_e1_e2_labels(sentence[\"sent\"], sentence[\"e1_contents\"], sentence[\"e2_contents\"])\n",
    "\n",
    "#data = add_e1_e2_labels(data)\n",
    "\n",
    "\n",
    "\n",
    "reversed_data = duplicate_and_reverse_labels(data)\n",
    "print(reversed_data[1])\n"
   ]
  },
  {
   "cell_type": "code",
   "execution_count": 23,
   "metadata": {},
   "outputs": [
    {
     "name": "stdout",
     "output_type": "stream",
     "text": [
      "error unable to find box cutters in The scissors were in a small plastic soap container, next to a bar of soap, and the <e1>box</e1> cutters were in a box next to a bottle of after-shave lotion.\n",
      "error unable to find space monkey in The <e1>space</e1> monkey travels into space.\n",
      "error unable to find researchers in Using the latest techniques of a science known as tissue engineering, res<e1>earchers</e1> at the University of Boston recently grew a human ear on the back of a mouse -- apparently with no adverse effects to the hybrid rodent.\n",
      "error unable to find story board in Lucy, Ali and Beth produced a photo <e1>story</e1> board to tell the story of the legend of the drift.\n",
      "error unable to find space shuttle orbiters in Five <e1>space</e1> shuttle orbiters have flown into space on NASA's missions.\n",
      "error unable to find space shuttle in A <e1>space</e1> shuttle travels into space.\n",
      "error unable to find footballer in Well, this foot<e1>baller</e1> kicked the ball the hardest he could and hit me.\n",
      "error unable to find deformation in Any de<e1>formation</e1> from the circular form have a significant effect on the ability of the hose to sustain internal pressure.\n"
     ]
    }
   ],
   "source": [
    "data += reversed_data\n",
    "data = add_e1_e2_labels(data)"
   ]
  },
  {
   "cell_type": "code",
   "execution_count": 24,
   "metadata": {},
   "outputs": [],
   "source": [
    "with open(\"reversed_labeled_semeval_dataset.json\", \"w\") as f:\n",
    "    json.dump(data, f, indent = 4)"
   ]
  },
  {
   "cell_type": "code",
   "execution_count": null,
   "metadata": {},
   "outputs": [],
   "source": []
  }
 ],
 "metadata": {
  "kernelspec": {
   "display_name": "Python 3",
   "language": "python",
   "name": "python3"
  },
  "language_info": {
   "codemirror_mode": {
    "name": "ipython",
    "version": 3
   },
   "file_extension": ".py",
   "mimetype": "text/x-python",
   "name": "python",
   "nbconvert_exporter": "python",
   "pygments_lexer": "ipython3",
   "version": "3.8.4"
  }
 },
 "nbformat": 4,
 "nbformat_minor": 4
}
